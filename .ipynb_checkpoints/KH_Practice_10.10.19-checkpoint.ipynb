{
 "cells": [
  {
   "cell_type": "code",
   "execution_count": 1,
   "metadata": {},
   "outputs": [
    {
     "name": "stdout",
     "output_type": "stream",
     "text": [
      "Katie H.\n"
     ]
    }
   ],
   "source": [
    "a = \"Katie\"\n",
    "b = \" H.\"\n",
    "c = \"Smith\"\n",
    "\n",
    "#Ask James whether or not text values can be compared in logic formulas - see below**\n",
    "\n",
    "if c == \" H.\":\n",
    "    print(a + c)\n",
    "elif b == \" H.\":\n",
    "    print(a + b)\n",
    "    "
   ]
  },
  {
   "cell_type": "code",
   "execution_count": 13,
   "metadata": {},
   "outputs": [
    {
     "name": "stdout",
     "output_type": "stream",
     "text": [
      "Katie H.\n",
      "Katie H. is rockin' it!\n"
     ]
    }
   ],
   "source": [
    "str1 = \"Katie\"\n",
    "str2 = \" H.\"\n",
    "\n",
    "print(str1 + str2)\n",
    "\n",
    "str3 = \" is rockin' it!\"\n",
    "\n",
    "print(str1 + str2 + str3)\n"
   ]
  }
 ],
 "metadata": {
  "kernelspec": {
   "display_name": "Python 3",
   "language": "python",
   "name": "python3"
  },
  "language_info": {
   "codemirror_mode": {
    "name": "ipython",
    "version": 3
   },
   "file_extension": ".py",
   "mimetype": "text/x-python",
   "name": "python",
   "nbconvert_exporter": "python",
   "pygments_lexer": "ipython3",
   "version": "3.7.4"
  }
 },
 "nbformat": 4,
 "nbformat_minor": 2
}
